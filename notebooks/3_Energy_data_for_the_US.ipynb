{
 "cells": [
  {
   "cell_type": "markdown",
   "metadata": {},
   "source": [
    "# US Energy data\n",
    "\n",
    "First, you need to [register for an API key at the EIA](https://www.eia.gov/opendata/register.php). This requires an email address.\n",
    "\n",
    "One option is to put it in a file called `secrets.py` and keep it to yourself. So, for instance, if you use GitHub, say, make sure you add that file to your `.gitignore` file. So the file might contain:\n",
    "\n",
    "    eia = \"c742288cf5e46cff832ace44a7d54a4fa\"\n",
    "    \n",
    "Then, from this notebook, you can do:\n",
    "\n",
    "    from secrets import eia as key\n",
    "    \n",
    "Alternatively, just copy and paste your key here:"
   ]
  },
  {
   "cell_type": "code",
   "execution_count": null,
   "metadata": {},
   "outputs": [],
   "source": [
    "key = \"  <KEY GOES HERE>  \""
   ]
  },
  {
   "cell_type": "markdown",
   "metadata": {},
   "source": [
    "You'll also need the requests library. If you don't have it, you can run this cell:"
   ]
  },
  {
   "cell_type": "code",
   "execution_count": null,
   "metadata": {},
   "outputs": [],
   "source": [
    "import requests"
   ]
  },
  {
   "cell_type": "markdown",
   "metadata": {},
   "source": [
    "To figure out the name of the series you need, drill down here: https://www.eia.gov/opendata/qb.php\n",
    "\n",
    "For example, if we go to EIA Data Sets > Petroleum > Prices > NYMEX Futures Prices, we get this info:\n",
    "\n",
    "- API call to use: http://api.eia.gov/series/?api_key=YOUR_API_KEY_HERE&series_id=PET.RCLC1.M\n",
    "- Series name: _Cushing, OK Crude Oil Future Contract 1, Monthly_\n",
    "\n",
    "Now we have everything we need to make our own API call to this dataset:"
   ]
  },
  {
   "cell_type": "code",
   "execution_count": null,
   "metadata": {},
   "outputs": [],
   "source": [
    "url = \"http://api.eia.gov/series/\"\n",
    "\n",
    "params = {\n",
    "    \"api_key\": key,\n",
    "    \"series_id\": \"PET.RCLC1.M\",\n",
    "}\n",
    "\n",
    "r = requests.get(url, params=params)"
   ]
  },
  {
   "cell_type": "code",
   "execution_count": null,
   "metadata": {},
   "outputs": [],
   "source": []
  },
  {
   "cell_type": "code",
   "execution_count": null,
   "metadata": {},
   "outputs": [],
   "source": []
  },
  {
   "cell_type": "code",
   "execution_count": null,
   "metadata": {},
   "outputs": [],
   "source": [
    "import pandas as pd\n",
    "\n",
    "df = pd.DataFrame(r.json()['series'][0]['data'], columns=['Date', 'Price'])\n",
    "df['Date'] = pd.to_datetime(df['Date'], format='%Y%m')\n",
    "df = df.set_index('Date').sort_index()"
   ]
  },
  {
   "cell_type": "markdown",
   "metadata": {},
   "source": [
    "Let's look at the dataframe:"
   ]
  },
  {
   "cell_type": "code",
   "execution_count": null,
   "metadata": {},
   "outputs": [],
   "source": []
  },
  {
   "cell_type": "markdown",
   "metadata": {},
   "source": [
    "And plot it:"
   ]
  },
  {
   "cell_type": "code",
   "execution_count": null,
   "metadata": {},
   "outputs": [],
   "source": [
    "%matplotlib inline\n",
    "import matplotlib.pyplot as plt\n",
    "\n"
   ]
  },
  {
   "cell_type": "code",
   "execution_count": null,
   "metadata": {},
   "outputs": [],
   "source": []
  }
 ],
 "metadata": {
  "kernelspec": {
   "display_name": "deepl",
   "language": "python",
   "name": "deepl"
  },
  "language_info": {
   "codemirror_mode": {
    "name": "ipython",
    "version": 3
   },
   "file_extension": ".py",
   "mimetype": "text/x-python",
   "name": "python",
   "nbconvert_exporter": "python",
   "pygments_lexer": "ipython3",
   "version": "3.6.7"
  }
 },
 "nbformat": 4,
 "nbformat_minor": 2
}
