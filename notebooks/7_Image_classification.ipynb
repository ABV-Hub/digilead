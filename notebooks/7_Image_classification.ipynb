{
 "cells": [
  {
   "cell_type": "markdown",
   "metadata": {},
   "source": [
    "# Image classification"
   ]
  },
  {
   "cell_type": "code",
   "execution_count": null,
   "metadata": {},
   "outputs": [],
   "source": [
    "import numpy as np\n",
    "\n",
    "%matplotlib inline\n",
    "import matplotlib.pyplot as plt"
   ]
  },
  {
   "cell_type": "markdown",
   "metadata": {},
   "source": [
    "## Make input arrays\n",
    "\n",
    "The training images were found on the Internet, then reduced greatly in size. Here's a typical 'raw' image from the BGS:\n",
    "\n",
    "<img src=\"https://resources.bgs.ac.uk/gb3d/thumbnails/BRSUG/P885148.jpg\" />"
   ]
  },
  {
   "cell_type": "markdown",
   "metadata": {},
   "source": [
    "Here's how the images have been processed:"
   ]
  },
  {
   "cell_type": "code",
   "execution_count": null,
   "metadata": {},
   "outputs": [],
   "source": [
    "from io import BytesIO\n",
    "import requests\n",
    "from PIL import Image\n",
    "\n",
    "r = requests.get('https://resources.bgs.ac.uk/gb3d/thumbnails/BRSUG/P885148.jpg')\n",
    "\n",
    "img = Image.open(BytesIO(r.content))\n",
    "img = img.resize((32,32), Image.ANTIALIAS).convert('L')\n",
    "img = np.asarray(img)\n",
    "\n",
    "plt.imshow(img)\n",
    "plt.xticks([]); plt.yticks([])\n",
    "plt.show()"
   ]
  },
  {
   "cell_type": "markdown",
   "metadata": {},
   "source": [
    "Then each image is arranged into a 1D array. Let's look at the first 5 rows of the image above:"
   ]
  },
  {
   "cell_type": "code",
   "execution_count": null,
   "metadata": {},
   "outputs": [],
   "source": [
    "fig, ax = plt.subplots(figsize=(15, 0.1))\n",
    "ax.matshow([img.ravel()[:160]], aspect='auto')\n",
    "ax.set_xticks([]); ax.set_yticks([])\n",
    "plt.show()"
   ]
  },
  {
   "cell_type": "markdown",
   "metadata": {},
   "source": [
    "Lots of images have already been prepared, so we can go ahead and load the data directly:"
   ]
  },
  {
   "cell_type": "code",
   "execution_count": null,
   "metadata": {},
   "outputs": [],
   "source": [
    "X_ = requests.get(\"https://s3.amazonaws.com/agilegeo/geocomp/X.npy\")\n",
    "y_ = requests.get(\"https://s3.amazonaws.com/agilegeo/geocomp/y.npy\")\n",
    "\n",
    "X = np.load(BytesIO(X_.content))\n",
    "y = np.load(BytesIO(y_.content))"
   ]
  },
  {
   "cell_type": "code",
   "execution_count": null,
   "metadata": {},
   "outputs": [],
   "source": [
    "from sklearn.model_selection import train_test_split\n",
    "\n",
    "X_train, X_val, y_train, y_val = train_test_split(X, y)"
   ]
  },
  {
   "cell_type": "code",
   "execution_count": null,
   "metadata": {},
   "outputs": [],
   "source": [
    "X_train.shape, y_train.shape"
   ]
  },
  {
   "cell_type": "code",
   "execution_count": null,
   "metadata": {},
   "outputs": [],
   "source": [
    "X_val.shape, y_val.shape"
   ]
  },
  {
   "cell_type": "code",
   "execution_count": null,
   "metadata": {},
   "outputs": [],
   "source": [
    "classes = np.unique(y_train)\n",
    "classes"
   ]
  },
  {
   "cell_type": "markdown",
   "metadata": {},
   "source": [
    "### Look at one of the images"
   ]
  },
  {
   "cell_type": "code",
   "execution_count": null,
   "metadata": {},
   "outputs": [],
   "source": [
    "X_train[0].shape"
   ]
  },
  {
   "cell_type": "code",
   "execution_count": null,
   "metadata": {},
   "outputs": [],
   "source": [
    "plt.imshow(X_train[0].reshape(32, 32))"
   ]
  },
  {
   "cell_type": "markdown",
   "metadata": {},
   "source": [
    "## MLP"
   ]
  },
  {
   "cell_type": "code",
   "execution_count": null,
   "metadata": {},
   "outputs": [],
   "source": [
    "from sklearn.neural_network import MLPClassifier\n",
    "\n",
    "clf = MLPClassifier(hidden_layer_sizes=(64, 64), max_iter=400)\n",
    "clf.fit(X_train, y_train)\n",
    "y_pred = clf.predict(X_val)"
   ]
  },
  {
   "cell_type": "code",
   "execution_count": null,
   "metadata": {},
   "outputs": [],
   "source": [
    "from sklearn.metrics import f1_score\n",
    "\n",
    "f1_score(y_val, y_pred, average='weighted')"
   ]
  },
  {
   "cell_type": "code",
   "execution_count": null,
   "metadata": {},
   "outputs": [],
   "source": [
    "from sklearn.metrics import confusion_matrix\n",
    "\n",
    "confusion_matrix(y_val, y_pred, labels=classes)"
   ]
  },
  {
   "cell_type": "code",
   "execution_count": null,
   "metadata": {},
   "outputs": [],
   "source": [
    "classes"
   ]
  },
  {
   "cell_type": "markdown",
   "metadata": {},
   "source": [
    "## Extra trees"
   ]
  },
  {
   "cell_type": "code",
   "execution_count": null,
   "metadata": {},
   "outputs": [],
   "source": [
    "from sklearn.ensemble import ExtraTreesClassifier\n",
    "\n",
    "clf = ExtraTreesClassifier(n_estimators=100)\n",
    "clf.fit(X_train, y_train)\n",
    "y_pred = clf.predict(X_val)"
   ]
  },
  {
   "cell_type": "code",
   "execution_count": null,
   "metadata": {},
   "outputs": [],
   "source": [
    "f1_score(y_val, y_pred, average='weighted')"
   ]
  },
  {
   "cell_type": "code",
   "execution_count": null,
   "metadata": {},
   "outputs": [],
   "source": [
    "confusion_matrix(y_val, y_pred, labels=classes)"
   ]
  },
  {
   "cell_type": "markdown",
   "metadata": {},
   "source": [
    "## Prediction probabilities\n",
    "\n",
    "Often we find that the mistakes are among the less certain choices. Let's have a look.\n",
    "\n",
    "First, let's see the mean probability of true positives vs false positives."
   ]
  },
  {
   "cell_type": "code",
   "execution_count": null,
   "metadata": {},
   "outputs": [],
   "source": [
    "y_prob = clf.predict_proba(X_val)"
   ]
  },
  {
   "cell_type": "code",
   "execution_count": null,
   "metadata": {},
   "outputs": [],
   "source": [
    "# True positives\n",
    "np.mean(np.max(y_prob[y_val==y_pred], axis=1))"
   ]
  },
  {
   "cell_type": "code",
   "execution_count": null,
   "metadata": {},
   "outputs": [],
   "source": [
    "# False positives\n",
    "np.mean(np.max(y_prob[y_val!=y_pred], axis=1))"
   ]
  },
  {
   "cell_type": "markdown",
   "metadata": {},
   "source": [
    "Indeed, it seems more sure about the positives. \n",
    "\n",
    "Let's visualize some of these. We'll use green for a good prediction, red for a wrong one. If the probability was less than 0.5 (say), we'll mute the colour."
   ]
  },
  {
   "cell_type": "code",
   "execution_count": null,
   "metadata": {},
   "outputs": [],
   "source": [
    "import random\n",
    "\n",
    "def visualize(X_val, y_val, y_prob, cutoff=0.5, ncols=6, nrows=1):\n",
    "    \"\"\"\n",
    "    Visualize some random samples from the prediction results.\n",
    "    Colours: green for a good prediction, red for a wrong one. If the\n",
    "    probability was less than some cutoff (default 0.5), we'll mute the colour.\n",
    "\n",
    "    Args:\n",
    "        X_val (ndarray): The validation features, n_samples x n_features.\n",
    "        y_val (ndarray): The validation labels, n_samples x 1.\n",
    "        y_prob (ndarray): The predicted probabilities, n_samples x n_classes.\n",
    "        cutoff (float): the cutoff for 'uncertain'.\n",
    "        ncols (int): how many plots across the grid.\n",
    "        nrows (int): how many plots down the grid.\n",
    "    \"\"\"\n",
    "    w, h = 2 * ncols, 2 * nrows + nrows / 2\n",
    "    fig, axs = plt.subplots(figsize=(w, h), ncols=ncols, nrows=nrows)\n",
    "\n",
    "    idx = random.sample(range(X_val.shape[0]), ncols*nrows)  # Non-repeating.\n",
    "    sample = X_val[idx]\n",
    "\n",
    "    classes = np.unique(y_val)\n",
    "    shp = int(np.sqrt(X_val.shape[1]))\n",
    "\n",
    "    for i, (img, actual, probs) in enumerate(zip(sample, y_val[idx], y_prob[idx])):\n",
    "        ax = axs[i // ncols, i % ncols]\n",
    "        pred = classes[np.argmax(probs)]\n",
    "        prob = np.max(probs)\n",
    "\n",
    "        img = img.reshape((shp,shp))\n",
    "        ax.imshow(img, cmap='gray')\n",
    "        ax.set_title(f\"{pred} - {prob}\\n[{actual}]\")\n",
    "        ax.set_xticks([])\n",
    "        ax.set_yticks([])\n",
    "\n",
    "        if prob > cutoff:\n",
    "            c = 'limegreen' if (actual == pred) else 'red'\n",
    "        else:\n",
    "            c = 'y' if (actual == pred) else 'lightsalmon'\n",
    "\n",
    "        for spine in ax.spines.values():\n",
    "            spine.set_edgecolor(c)\n",
    "            spine.set_linewidth(4)\n",
    "\n",
    "    return axs"
   ]
  },
  {
   "cell_type": "code",
   "execution_count": null,
   "metadata": {},
   "outputs": [],
   "source": [
    "visualize(X_val, y_val, y_prob, cutoff=0.5, ncols=8, nrows=3)\n",
    "plt.show()"
   ]
  },
  {
   "cell_type": "markdown",
   "metadata": {},
   "source": [
    "<html><hr />\n",
    "\n",
    "<div>\n",
    "<img src=\"https://avatars1.githubusercontent.com/u/1692321?s=50\"><p style=\"text-align:center\">© Agile Geoscience 2019</p>\n",
    "</div></html>"
   ]
  }
 ],
 "metadata": {
  "kernelspec": {
   "display_name": "deepl",
   "language": "python",
   "name": "deepl"
  },
  "language_info": {
   "codemirror_mode": {
    "name": "ipython",
    "version": 3
   },
   "file_extension": ".py",
   "mimetype": "text/x-python",
   "name": "python",
   "nbconvert_exporter": "python",
   "pygments_lexer": "ipython3",
   "version": "3.6.7"
  }
 },
 "nbformat": 4,
 "nbformat_minor": 2
}
