{
  "nbformat": 4,
  "nbformat_minor": 0,
  "metadata": {
    "colab": {
      "name": "0_Image_classification_on_the_cloud",
      "provenance": [],
      "collapsed_sections": []
    },
    "kernelspec": {
      "display_name": "deepl",
      "language": "python",
      "name": "deepl"
    },
    "language_info": {
      "codemirror_mode": {
        "name": "ipython",
        "version": 3
      },
      "file_extension": ".py",
      "mimetype": "text/x-python",
      "name": "python",
      "nbconvert_exporter": "python",
      "pygments_lexer": "ipython3",
      "version": "3.6.7"
    },
    "accelerator": "TPU"
  },
  "cells": [
    {
      "cell_type": "markdown",
      "metadata": {
        "colab_type": "text",
        "id": "N6ZDpd9XzFeN"
      },
      "source": [
        "# Image classification with TensorFlow \n",
        "\n",
        "Based on an original notebook by the TensorFlow authors, licensed under Apache 2.0.\n",
        "\n",
        "**Note: You need to sign in to Google to run this notebook.**\n",
        "\n",
        "Use **Shift + Enter** to run the cells. When prompted, click **Run anyway** then **Yes**. Try it on this cell..."
      ]
    },
    {
      "cell_type": "code",
      "metadata": {
        "id": "YSMEHWDbIUW3",
        "colab_type": "code",
        "colab": {
          "base_uri": "https://localhost:8080/",
          "height": 34
        },
        "outputId": "b8541fe4-bbf1-44da-e5c3-b3e88394e8e0"
      },
      "source": [
        "import os\n",
        "\n",
        "if 'COLAB_TPU_ADDR' not in os.environ:\n",
        "    print('ERROR: Not connected to a TPU runtime; change the runtime type!')\n",
        "else:\n",
        "    tpu_address = 'grpc://' + os.environ['COLAB_TPU_ADDR']\n",
        "    print ('TPU address is', tpu_address)"
      ],
      "execution_count": 19,
      "outputs": [
        {
          "output_type": "stream",
          "text": [
            "TPU address is grpc://10.103.148.234:8470\n"
          ],
          "name": "stdout"
        }
      ]
    },
    {
      "cell_type": "markdown",
      "metadata": {
        "colab_type": "text",
        "id": "RNo1Vfghpa8j"
      },
      "source": [
        "## Overview\n",
        "\n",
        "In this notebook, we're going to classify some images of fossils... in fewer than 80 lines of code.\n",
        "\n",
        "A 'notebook' is an interactive coding and note-taking environment. We're going to be using some cutting edge technology, right in your browser. We will see:\n",
        "\n",
        "- A deep neural network in action.\n",
        "- Google's TensorFlow deep learning library.\n",
        "- Google's 'tensor processing unit' (TPU) deep learning hardware acceleration.\n",
        "- All of this is running on Google's cloud infrastructure, for free.\n",
        "\n",
        "There are fewer than 80 lines of code altogether."
      ]
    },
    {
      "cell_type": "markdown",
      "metadata": {
        "colab_type": "text",
        "id": "Lvo0t7XVIkWZ"
      },
      "source": [
        "## Load the data"
      ]
    },
    {
      "cell_type": "markdown",
      "metadata": {
        "colab_type": "text",
        "id": "MICrRv8rmXVq"
      },
      "source": [
        "We'll begin by downloading the dataset. Run this cell:"
      ]
    },
    {
      "cell_type": "code",
      "metadata": {
        "colab_type": "code",
        "id": "i9aTiz206S68",
        "outputId": "e8b3e5c4-7981-4493-97d5-708d2ffb1fc1",
        "colab": {
          "base_uri": "https://localhost:8080/",
          "height": 34
        }
      },
      "source": [
        "import requests\n",
        "import numpy as np\n",
        "from io import BytesIO\n",
        "\n",
        "X_ = requests.get(\"https://s3.amazonaws.com/agilegeo/geocomp/image_X.npy\")\n",
        "y_ = requests.get(\"https://s3.amazonaws.com/agilegeo/geocomp/integer_y.npy\")\n",
        "\n",
        "X = np.load(BytesIO(X_.content))\n",
        "y = np.load(BytesIO(y_.content))\n",
        "\n",
        "print(\"Data loaded!\")"
      ],
      "execution_count": 12,
      "outputs": [
        {
          "output_type": "stream",
          "text": [
            "Data loaded!\n"
          ],
          "name": "stdout"
        }
      ]
    },
    {
      "cell_type": "code",
      "metadata": {
        "colab_type": "code",
        "id": "Rupu_61y6tt7",
        "outputId": "c287fcc3-4e47-44e7-f2d5-7ef53de0d57b",
        "colab": {
          "base_uri": "https://localhost:8080/",
          "height": 34
        }
      },
      "source": [
        "from sklearn.model_selection import train_test_split\n",
        "\n",
        "X_train, X_val, y_train, y_val = train_test_split(X, y, test_size=0.316)\n",
        "\n",
        "X_train.shape"
      ],
      "execution_count": 14,
      "outputs": [
        {
          "output_type": "execute_result",
          "data": {
            "text/plain": [
              "(400, 32, 32, 1)"
            ]
          },
          "metadata": {
            "tags": []
          },
          "execution_count": 14
        }
      ]
    },
    {
      "cell_type": "code",
      "metadata": {
        "id": "RCcWCIzUFn9i",
        "colab_type": "code",
        "colab": {
          "base_uri": "https://localhost:8080/",
          "height": 286
        },
        "outputId": "fa18b902-59da-410b-b24a-69935f0e0eff"
      },
      "source": [
        "%matplotlib inline\n",
        "import matplotlib.pyplot as plt\n",
        "\n",
        "plt.imshow(X_train[0, :, :, 0])"
      ],
      "execution_count": 15,
      "outputs": [
        {
          "output_type": "execute_result",
          "data": {
            "text/plain": [
              "<matplotlib.image.AxesImage at 0x7f689a9260f0>"
            ]
          },
          "metadata": {
            "tags": []
          },
          "execution_count": 15
        },
        {
          "output_type": "display_data",
          "data": {
            "image/png": "[encoded data removed]",
            "text/plain": [
              "<Figure size 432x288 with 1 Axes>"
            ]
          },
          "metadata": {
            "tags": []
          }
        }
      ]
    },
    {
      "cell_type": "code",
      "metadata": {
        "colab_type": "code",
        "id": "Ft7DuD_5--x-",
        "outputId": "8b08938f-9d38-4ce2-81e8-b02257d2f5ff",
        "colab": {
          "base_uri": "https://localhost:8080/",
          "height": 336
        }
      },
      "source": [
        "y_train"
      ],
      "execution_count": 16,
      "outputs": [
        {
          "output_type": "execute_result",
          "data": {
            "text/plain": [
              "array([1, 2, 1, 2, 1, 2, 1, 0, 0, 0, 2, 0, 0, 1, 0, 2, 0, 1, 1, 1, 1, 0,\n",
              "       2, 1, 2, 0, 0, 2, 2, 1, 2, 1, 1, 1, 0, 1, 0, 1, 2, 2, 1, 0, 2, 0,\n",
              "       2, 2, 0, 1, 2, 2, 2, 1, 1, 1, 1, 0, 1, 1, 0, 0, 0, 0, 2, 2, 1, 2,\n",
              "       2, 2, 2, 2, 2, 2, 1, 1, 1, 1, 2, 1, 0, 1, 1, 2, 2, 2, 2, 0, 2, 2,\n",
              "       1, 0, 1, 2, 0, 1, 0, 0, 1, 1, 2, 1, 2, 1, 2, 2, 1, 2, 0, 2, 1, 1,\n",
              "       0, 0, 2, 1, 1, 1, 1, 1, 0, 2, 1, 1, 1, 2, 1, 0, 0, 0, 2, 1, 2, 0,\n",
              "       2, 2, 0, 0, 0, 2, 2, 2, 0, 1, 1, 0, 2, 0, 2, 2, 2, 1, 0, 0, 0, 0,\n",
              "       2, 0, 2, 2, 1, 0, 1, 2, 0, 1, 2, 1, 2, 1, 0, 0, 0, 1, 0, 1, 0, 2,\n",
              "       1, 2, 0, 1, 0, 0, 0, 1, 2, 2, 0, 1, 0, 0, 2, 1, 2, 0, 2, 1, 1, 2,\n",
              "       0, 1, 1, 1, 0, 2, 0, 0, 2, 0, 1, 0, 2, 0, 1, 1, 0, 1, 0, 1, 1, 2,\n",
              "       0, 2, 2, 1, 0, 1, 1, 1, 2, 2, 2, 1, 1, 1, 0, 2, 0, 0, 2, 1, 1, 1,\n",
              "       2, 1, 2, 0, 0, 1, 0, 0, 2, 0, 2, 0, 0, 1, 1, 2, 2, 0, 2, 1, 1, 0,\n",
              "       1, 1, 2, 2, 2, 2, 2, 2, 0, 1, 0, 0, 0, 2, 2, 1, 1, 0, 2, 0, 2, 0,\n",
              "       0, 2, 2, 0, 2, 0, 1, 1, 0, 0, 2, 2, 2, 0, 0, 2, 0, 2, 0, 2, 2, 1,\n",
              "       0, 0, 1, 1, 2, 0, 2, 0, 2, 0, 1, 1, 1, 2, 0, 1, 2, 1, 1, 1, 0, 2,\n",
              "       2, 2, 0, 0, 2, 0, 0, 1, 2, 1, 0, 1, 0, 1, 1, 2, 2, 0, 0, 1, 0, 2,\n",
              "       1, 1, 0, 0, 0, 0, 2, 2, 0, 1, 0, 1, 1, 1, 1, 2, 1, 2, 1, 2, 2, 0,\n",
              "       0, 1, 0, 2, 2, 0, 1, 1, 0, 1, 1, 2, 2, 1, 2, 0, 1, 0, 0, 1, 2, 0,\n",
              "       0, 1, 0, 1])"
            ]
          },
          "metadata": {
            "tags": []
          },
          "execution_count": 16
        }
      ]
    },
    {
      "cell_type": "markdown",
      "metadata": {
        "id": "V6SorqseFn9q",
        "colab_type": "text"
      },
      "source": [
        "## Shallow learning model"
      ]
    },
    {
      "cell_type": "code",
      "metadata": {
        "id": "H21IpyZxFn9r",
        "colab_type": "code",
        "colab": {
          "base_uri": "https://localhost:8080/",
          "height": 34
        },
        "outputId": "86958407-644d-4965-d8f1-2ce02cc865a0"
      },
      "source": [
        "X_train.shape, X_val.shape"
      ],
      "execution_count": 5,
      "outputs": [
        {
          "output_type": "execute_result",
          "data": {
            "text/plain": [
              "((400, 32, 32, 1), (186, 32, 32, 1))"
            ]
          },
          "metadata": {
            "tags": []
          },
          "execution_count": 5
        }
      ]
    },
    {
      "cell_type": "code",
      "metadata": {
        "id": "1Sk1kBSMFn9u",
        "colab_type": "code",
        "colab": {}
      },
      "source": [
        "from sklearn.svm import SVC\n",
        "\n"
      ],
      "execution_count": 0,
      "outputs": []
    },
    {
      "cell_type": "markdown",
      "metadata": {
        "id": "ND_c34GvFn9x",
        "colab_type": "text"
      },
      "source": [
        "Evaluating the model, we see that we got about 60% accuracy:"
      ]
    },
    {
      "cell_type": "code",
      "metadata": {
        "id": "YypOZhoaFn9y",
        "colab_type": "code",
        "colab": {}
      },
      "source": [
        ""
      ],
      "execution_count": 0,
      "outputs": []
    },
    {
      "cell_type": "markdown",
      "metadata": {
        "colab_type": "text",
        "id": "Hgc2FZKVMx15"
      },
      "source": [
        "## Deep learning model\n",
        "\n",
        "The following example uses a standard conv-net that has 3 layers with drop-out and batch normalization between each layer."
      ]
    },
    {
      "cell_type": "code",
      "metadata": {
        "colab_type": "code",
        "id": "W7gMbs70GxA7",
        "colab": {}
      },
      "source": [
        "import tensorflow as tf\n",
        "\n",
        "def create_model(input_shape):\n",
        "    model = tf.keras.models.Sequential()\n",
        "    model.add(tf.keras.layers.BatchNormalization(input_shape=input_shape))\n",
        "    model.add(tf.keras.layers.Conv2D(64, (5, 5), padding='same', activation='elu'))\n",
        "    model.add(tf.keras.layers.MaxPooling2D(pool_size=(2, 2), strides=(2,2)))\n",
        "    model.add(tf.keras.layers.Dropout(0.25))\n",
        "\n",
        "    model.add(tf.keras.layers.BatchNormalization(input_shape=input_shape))\n",
        "    model.add(tf.keras.layers.Conv2D(32, (5, 5), padding='same', activation='elu'))\n",
        "    model.add(tf.keras.layers.MaxPooling2D(pool_size=(2, 2)))\n",
        "    model.add(tf.keras.layers.Dropout(0.25))\n",
        "\n",
        "    model.add(tf.keras.layers.Flatten())\n",
        "    model.add(tf.keras.layers.Dense(32))\n",
        "    model.add(tf.keras.layers.Activation('elu'))\n",
        "    model.add(tf.keras.layers.Dropout(0.25))\n",
        "    model.add(tf.keras.layers.Dense(3))\n",
        "    model.add(tf.keras.layers.Activation('softmax'))\n",
        "    return model"
      ],
      "execution_count": 0,
      "outputs": []
    },
    {
      "cell_type": "markdown",
      "metadata": {
        "colab_type": "text",
        "id": "xLeZATVaNAnE"
      },
      "source": [
        "## Train on the TPU\n",
        "\n",
        "To begin training, construct the model on the TPU and then compile it.\n",
        "\n",
        "The following code demonstrates the use of a generator function and `fit_generator` to train the model.  Alternately, you can pass in `x_train` and `y_train` to `tpu_model.fit()`."
      ]
    },
    {
      "cell_type": "code",
      "metadata": {
        "colab_type": "code",
        "id": "pWEYmd_hIWg8",
        "outputId": "105aed7a-5bcf-459c-9a7a-8d0dea189024",
        "colab": {
          "base_uri": "https://localhost:8080/",
          "height": 622
        }
      },
      "source": [
        "from contextlib import contextmanager\n",
        "\n",
        "\n",
        "try:\n",
        "    resolver = tf.contrib.cluster_resolver.TPUClusterResolver('grpc://' + os.environ['COLAB_TPU_ADDR'])\n",
        "    tf.contrib.distribute.initialize_tpu_system(resolver)\n",
        "    strategy = tf.contrib.distribute.TPUStrategy(resolver)\n",
        "except:\n",
        "    strategy = None\n",
        "\n",
        "none_context = contextmanager(lambda: iter([None]))()\n",
        "\n",
        "with (strategy.scope() if strategy else none_context):\n",
        "    model = create_model(input_shape=X_train.shape[1:])\n",
        "    model.compile(\n",
        "        optimizer=tf.keras.optimizers.Adam(learning_rate=1e-3),\n",
        "        loss='sparse_categorical_crossentropy',\n",
        "        metrics=['sparse_categorical_accuracy'])"
      ],
      "execution_count": 20,
      "outputs": [
        {
          "output_type": "stream",
          "text": [
            "INFO:tensorflow:Initializing the TPU system: 10.103.148.234:8470\n"
          ],
          "name": "stdout"
        },
        {
          "output_type": "stream",
          "text": [
            "INFO:tensorflow:Initializing the TPU system: 10.103.148.234:8470\n"
          ],
          "name": "stderr"
        },
        {
          "output_type": "stream",
          "text": [
            "INFO:tensorflow:Finished initializing TPU system.\n"
          ],
          "name": "stdout"
        },
        {
          "output_type": "stream",
          "text": [
            "INFO:tensorflow:Finished initializing TPU system.\n"
          ],
          "name": "stderr"
        },
        {
          "output_type": "stream",
          "text": [
            "INFO:tensorflow:Querying Tensorflow master (grpc://10.103.148.234:8470) for TPU system metadata.\n"
          ],
          "name": "stdout"
        },
        {
          "output_type": "stream",
          "text": [
            "INFO:tensorflow:Querying Tensorflow master (grpc://10.103.148.234:8470) for TPU system metadata.\n"
          ],
          "name": "stderr"
        },
        {
          "output_type": "stream",
          "text": [
            "INFO:tensorflow:Found TPU system:\n"
          ],
          "name": "stdout"
        },
        {
          "output_type": "stream",
          "text": [
            "INFO:tensorflow:Found TPU system:\n"
          ],
          "name": "stderr"
        },
        {
          "output_type": "stream",
          "text": [
            "INFO:tensorflow:*** Num TPU Cores: 8\n"
          ],
          "name": "stdout"
        },
        {
          "output_type": "stream",
          "text": [
            "INFO:tensorflow:*** Num TPU Cores: 8\n"
          ],
          "name": "stderr"
        },
        {
          "output_type": "stream",
          "text": [
            "INFO:tensorflow:*** Num TPU Workers: 1\n"
          ],
          "name": "stdout"
        },
        {
          "output_type": "stream",
          "text": [
            "INFO:tensorflow:*** Num TPU Workers: 1\n"
          ],
          "name": "stderr"
        },
        {
          "output_type": "stream",
          "text": [
            "INFO:tensorflow:*** Num TPU Cores Per Worker: 8\n"
          ],
          "name": "stdout"
        },
        {
          "output_type": "stream",
          "text": [
            "INFO:tensorflow:*** Num TPU Cores Per Worker: 8\n"
          ],
          "name": "stderr"
        },
        {
          "output_type": "stream",
          "text": [
            "INFO:tensorflow:*** Available Device: _DeviceAttributes(/job:worker/replica:0/task:0/device:CPU:0, CPU, -1, 6632707102883938449)\n"
          ],
          "name": "stdout"
        },
        {
          "output_type": "stream",
          "text": [
            "INFO:tensorflow:*** Available Device: _DeviceAttributes(/job:worker/replica:0/task:0/device:CPU:0, CPU, -1, 6632707102883938449)\n"
          ],
          "name": "stderr"
        },
        {
          "output_type": "stream",
          "text": [
            "INFO:tensorflow:*** Available Device: _DeviceAttributes(/job:worker/replica:0/task:0/device:TPU:0, TPU, 17179869184, 7186737417859783639)\n"
          ],
          "name": "stdout"
        },
        {
          "output_type": "stream",
          "text": [
            "INFO:tensorflow:*** Available Device: _DeviceAttributes(/job:worker/replica:0/task:0/device:TPU:0, TPU, 17179869184, 7186737417859783639)\n"
          ],
          "name": "stderr"
        },
        {
          "output_type": "stream",
          "text": [
            "INFO:tensorflow:*** Available Device: _DeviceAttributes(/job:worker/replica:0/task:0/device:TPU:1, TPU, 17179869184, 2922544448792854227)\n"
          ],
          "name": "stdout"
        },
        {
          "output_type": "stream",
          "text": [
            "INFO:tensorflow:*** Available Device: _DeviceAttributes(/job:worker/replica:0/task:0/device:TPU:1, TPU, 17179869184, 2922544448792854227)\n"
          ],
          "name": "stderr"
        },
        {
          "output_type": "stream",
          "text": [
            "INFO:tensorflow:*** Available Device: _DeviceAttributes(/job:worker/replica:0/task:0/device:TPU:2, TPU, 17179869184, 5742104487904605038)\n"
          ],
          "name": "stdout"
        },
        {
          "output_type": "stream",
          "text": [
            "INFO:tensorflow:*** Available Device: _DeviceAttributes(/job:worker/replica:0/task:0/device:TPU:2, TPU, 17179869184, 5742104487904605038)\n"
          ],
          "name": "stderr"
        },
        {
          "output_type": "stream",
          "text": [
            "INFO:tensorflow:*** Available Device: _DeviceAttributes(/job:worker/replica:0/task:0/device:TPU:3, TPU, 17179869184, 16229129824289296191)\n"
          ],
          "name": "stdout"
        },
        {
          "output_type": "stream",
          "text": [
            "INFO:tensorflow:*** Available Device: _DeviceAttributes(/job:worker/replica:0/task:0/device:TPU:3, TPU, 17179869184, 16229129824289296191)\n"
          ],
          "name": "stderr"
        },
        {
          "output_type": "stream",
          "text": [
            "INFO:tensorflow:*** Available Device: _DeviceAttributes(/job:worker/replica:0/task:0/device:TPU:4, TPU, 17179869184, 13307771088482023223)\n"
          ],
          "name": "stdout"
        },
        {
          "output_type": "stream",
          "text": [
            "INFO:tensorflow:*** Available Device: _DeviceAttributes(/job:worker/replica:0/task:0/device:TPU:4, TPU, 17179869184, 13307771088482023223)\n"
          ],
          "name": "stderr"
        },
        {
          "output_type": "stream",
          "text": [
            "INFO:tensorflow:*** Available Device: _DeviceAttributes(/job:worker/replica:0/task:0/device:TPU:5, TPU, 17179869184, 14510359751342365290)\n"
          ],
          "name": "stdout"
        },
        {
          "output_type": "stream",
          "text": [
            "INFO:tensorflow:*** Available Device: _DeviceAttributes(/job:worker/replica:0/task:0/device:TPU:5, TPU, 17179869184, 14510359751342365290)\n"
          ],
          "name": "stderr"
        },
        {
          "output_type": "stream",
          "text": [
            "INFO:tensorflow:*** Available Device: _DeviceAttributes(/job:worker/replica:0/task:0/device:TPU:6, TPU, 17179869184, 10548231219937813425)\n"
          ],
          "name": "stdout"
        },
        {
          "output_type": "stream",
          "text": [
            "INFO:tensorflow:*** Available Device: _DeviceAttributes(/job:worker/replica:0/task:0/device:TPU:6, TPU, 17179869184, 10548231219937813425)\n"
          ],
          "name": "stderr"
        },
        {
          "output_type": "stream",
          "text": [
            "INFO:tensorflow:*** Available Device: _DeviceAttributes(/job:worker/replica:0/task:0/device:TPU:7, TPU, 17179869184, 8438314197791549924)\n"
          ],
          "name": "stdout"
        },
        {
          "output_type": "stream",
          "text": [
            "INFO:tensorflow:*** Available Device: _DeviceAttributes(/job:worker/replica:0/task:0/device:TPU:7, TPU, 17179869184, 8438314197791549924)\n"
          ],
          "name": "stderr"
        },
        {
          "output_type": "stream",
          "text": [
            "INFO:tensorflow:*** Available Device: _DeviceAttributes(/job:worker/replica:0/task:0/device:TPU_SYSTEM:0, TPU_SYSTEM, 8589934592, 13771323888256622214)\n"
          ],
          "name": "stdout"
        },
        {
          "output_type": "stream",
          "text": [
            "INFO:tensorflow:*** Available Device: _DeviceAttributes(/job:worker/replica:0/task:0/device:TPU_SYSTEM:0, TPU_SYSTEM, 8589934592, 13771323888256622214)\n"
          ],
          "name": "stderr"
        },
        {
          "output_type": "stream",
          "text": [
            "INFO:tensorflow:*** Available Device: _DeviceAttributes(/job:worker/replica:0/task:0/device:XLA_CPU:0, XLA_CPU, 17179869184, 6674462929309764834)\n"
          ],
          "name": "stdout"
        },
        {
          "output_type": "stream",
          "text": [
            "INFO:tensorflow:*** Available Device: _DeviceAttributes(/job:worker/replica:0/task:0/device:XLA_CPU:0, XLA_CPU, 17179869184, 6674462929309764834)\n"
          ],
          "name": "stderr"
        }
      ]
    },
    {
      "cell_type": "code",
      "metadata": {
        "id": "R26YzZmpFn99",
        "colab_type": "code",
        "colab": {
          "base_uri": "https://localhost:8080/",
          "height": 622
        },
        "outputId": "85db33f2-5d15-4663-fe87-972e85d9f50d"
      },
      "source": [
        "model.summary()"
      ],
      "execution_count": 21,
      "outputs": [
        {
          "output_type": "stream",
          "text": [
            "Model: \"sequential_1\"\n",
            "_________________________________________________________________\n",
            "Layer (type)                 Output Shape              Param #   \n",
            "=================================================================\n",
            "batch_normalization_2 (Batch (None, 32, 32, 1)         4         \n",
            "_________________________________________________________________\n",
            "conv2d_2 (Conv2D)            (None, 32, 32, 64)        1664      \n",
            "_________________________________________________________________\n",
            "max_pooling2d_2 (MaxPooling2 (None, 16, 16, 64)        0         \n",
            "_________________________________________________________________\n",
            "dropout_3 (Dropout)          (None, 16, 16, 64)        0         \n",
            "_________________________________________________________________\n",
            "batch_normalization_3 (Batch (None, 16, 16, 64)        256       \n",
            "_________________________________________________________________\n",
            "conv2d_3 (Conv2D)            (None, 16, 16, 32)        51232     \n",
            "_________________________________________________________________\n",
            "max_pooling2d_3 (MaxPooling2 (None, 8, 8, 32)          0         \n",
            "_________________________________________________________________\n",
            "dropout_4 (Dropout)          (None, 8, 8, 32)          0         \n",
            "_________________________________________________________________\n",
            "flatten_1 (Flatten)          (None, 2048)              0         \n",
            "_________________________________________________________________\n",
            "dense_2 (Dense)              (None, 32)                65568     \n",
            "_________________________________________________________________\n",
            "activation_2 (Activation)    (None, 32)                0         \n",
            "_________________________________________________________________\n",
            "dropout_5 (Dropout)          (None, 32)                0         \n",
            "_________________________________________________________________\n",
            "dense_3 (Dense)              (None, 3)                 99        \n",
            "_________________________________________________________________\n",
            "activation_3 (Activation)    (None, 3)                 0         \n",
            "=================================================================\n",
            "Total params: 118,823\n",
            "Trainable params: 118,693\n",
            "Non-trainable params: 130\n",
            "_________________________________________________________________\n"
          ],
          "name": "stdout"
        }
      ]
    },
    {
      "cell_type": "code",
      "metadata": {
        "id": "NephS8dHFn-A",
        "colab_type": "code",
        "colab": {
          "base_uri": "https://localhost:8080/",
          "height": 1000
        },
        "outputId": "fd16a5d5-9dc9-4361-d6bb-39fe90620607"
      },
      "source": [
        "model.fit(\n",
        "    X_train.astype(np.float32),\n",
        "    y_train.astype(np.float32),\n",
        "    epochs=32,\n",
        "    steps_per_epoch=50,\n",
        "    validation_data=(X_val.astype(np.float32), y_val.astype(np.float32)),\n",
        "    validation_freq=32\n",
        ")\n",
        "\n",
        "model.save_weights('./fossils.h5', overwrite=True)"
      ],
      "execution_count": 22,
      "outputs": [
        {
          "output_type": "stream",
          "text": [
            "Epoch 1/32\n",
            "50/50 [==============================] - 2s 47ms/step - loss: 1.7832 - sparse_categorical_accuracy: 0.4300\n",
            "Epoch 2/32\n",
            "50/50 [==============================] - 1s 14ms/step - loss: 1.0919 - sparse_categorical_accuracy: 0.5025\n",
            "Epoch 3/32\n",
            "50/50 [==============================] - 1s 14ms/step - loss: 1.0005 - sparse_categorical_accuracy: 0.5175\n",
            "Epoch 4/32\n",
            "50/50 [==============================] - 1s 13ms/step - loss: 0.9970 - sparse_categorical_accuracy: 0.5600\n",
            "Epoch 5/32\n",
            "50/50 [==============================] - 1s 14ms/step - loss: 1.0075 - sparse_categorical_accuracy: 0.5050\n",
            "Epoch 6/32\n",
            "50/50 [==============================] - 1s 13ms/step - loss: 0.8801 - sparse_categorical_accuracy: 0.5850\n",
            "Epoch 7/32\n",
            "50/50 [==============================] - 1s 14ms/step - loss: 0.8709 - sparse_categorical_accuracy: 0.6050\n",
            "Epoch 8/32\n",
            "50/50 [==============================] - 1s 14ms/step - loss: 0.8104 - sparse_categorical_accuracy: 0.6600\n",
            "Epoch 9/32\n",
            "50/50 [==============================] - 1s 14ms/step - loss: 0.7553 - sparse_categorical_accuracy: 0.6350\n",
            "Epoch 10/32\n",
            "50/50 [==============================] - 1s 13ms/step - loss: 0.7294 - sparse_categorical_accuracy: 0.6650\n",
            "Epoch 11/32\n",
            "50/50 [==============================] - 1s 13ms/step - loss: 0.7375 - sparse_categorical_accuracy: 0.6575\n",
            "Epoch 12/32\n",
            "50/50 [==============================] - 1s 14ms/step - loss: 0.6153 - sparse_categorical_accuracy: 0.7125\n",
            "Epoch 13/32\n",
            "50/50 [==============================] - 1s 14ms/step - loss: 0.6285 - sparse_categorical_accuracy: 0.7475\n",
            "Epoch 14/32\n",
            "50/50 [==============================] - 1s 14ms/step - loss: 0.6081 - sparse_categorical_accuracy: 0.7150\n",
            "Epoch 15/32\n",
            "50/50 [==============================] - 1s 14ms/step - loss: 0.5600 - sparse_categorical_accuracy: 0.7625\n",
            "Epoch 16/32\n",
            "50/50 [==============================] - 1s 15ms/step - loss: 0.5190 - sparse_categorical_accuracy: 0.7775\n",
            "Epoch 17/32\n",
            "50/50 [==============================] - 1s 14ms/step - loss: 0.5276 - sparse_categorical_accuracy: 0.7575\n",
            "Epoch 18/32\n",
            "50/50 [==============================] - 1s 14ms/step - loss: 0.4805 - sparse_categorical_accuracy: 0.7575\n",
            "Epoch 19/32\n",
            "50/50 [==============================] - 1s 14ms/step - loss: 0.5229 - sparse_categorical_accuracy: 0.7775\n",
            "Epoch 20/32\n",
            "50/50 [==============================] - 1s 13ms/step - loss: 0.4130 - sparse_categorical_accuracy: 0.8050\n",
            "Epoch 21/32\n",
            "50/50 [==============================] - 1s 13ms/step - loss: 0.4026 - sparse_categorical_accuracy: 0.8250\n",
            "Epoch 22/32\n",
            "50/50 [==============================] - 1s 14ms/step - loss: 0.4693 - sparse_categorical_accuracy: 0.7800\n",
            "Epoch 23/32\n",
            "50/50 [==============================] - 1s 14ms/step - loss: 0.4105 - sparse_categorical_accuracy: 0.8000\n",
            "Epoch 24/32\n",
            "50/50 [==============================] - 1s 14ms/step - loss: 0.3696 - sparse_categorical_accuracy: 0.8325\n",
            "Epoch 25/32\n",
            "50/50 [==============================] - 1s 14ms/step - loss: 0.4053 - sparse_categorical_accuracy: 0.8300\n",
            "Epoch 26/32\n",
            "50/50 [==============================] - 1s 14ms/step - loss: 0.3346 - sparse_categorical_accuracy: 0.8725\n",
            "Epoch 27/32\n",
            "50/50 [==============================] - 1s 14ms/step - loss: 0.3423 - sparse_categorical_accuracy: 0.8600\n",
            "Epoch 28/32\n",
            "50/50 [==============================] - 1s 14ms/step - loss: 0.2596 - sparse_categorical_accuracy: 0.9025\n",
            "Epoch 29/32\n",
            "50/50 [==============================] - 1s 14ms/step - loss: 0.3284 - sparse_categorical_accuracy: 0.8625\n",
            "Epoch 30/32\n",
            "50/50 [==============================] - 1s 15ms/step - loss: 0.3069 - sparse_categorical_accuracy: 0.8525\n",
            "Epoch 31/32\n",
            "50/50 [==============================] - 1s 14ms/step - loss: 0.3050 - sparse_categorical_accuracy: 0.8950\n",
            "Epoch 32/32\n",
            "47/50 [===========================>..] - ETA: 0s - loss: 0.2540 - sparse_categorical_accuracy: 0.8910INFO:tensorflow:Running validation at fit epoch: 31\n"
          ],
          "name": "stdout"
        },
        {
          "output_type": "stream",
          "text": [
            "INFO:tensorflow:Running validation at fit epoch: 31\n"
          ],
          "name": "stderr"
        },
        {
          "output_type": "stream",
          "text": [
            "24/24 [==============================] - 3s 134ms/step\n",
            "24/24 [==============================] - 3s 134ms/step\n",
            "50/50 [==============================] - 5s 107ms/step - loss: 0.2643 - sparse_categorical_accuracy: 0.8900 - val_loss: 0.8159 - val_sparse_categorical_accuracy: 0.6828\n"
          ],
          "name": "stdout"
        }
      ]
    },
    {
      "cell_type": "markdown",
      "metadata": {
        "colab_type": "text",
        "id": "ESL6ltQTMm05"
      },
      "source": [
        "## Check the results (inference)\n",
        "\n",
        "Now that you are done training, see how well the model can predict fossil types."
      ]
    },
    {
      "cell_type": "code",
      "metadata": {
        "colab_type": "code",
        "id": "SaYPv_aKId2d",
        "colab": {}
      },
      "source": [
        "LABEL_NAMES = ['ammonites', 'fish', 'trilobites']\n",
        "\n",
        "cpu_model = create_model(X_train.shape[1:])\n",
        "cpu_model.load_weights('./fossils.h5')\n",
        "\n",
        "y_pred = cpu_model.predict(X_val)"
      ],
      "execution_count": 0,
      "outputs": []
    },
    {
      "cell_type": "code",
      "metadata": {
        "id": "ZWpsUa9rSXDl",
        "colab_type": "code",
        "colab": {}
      },
      "source": [
        "import random\n",
        "\n",
        "def visualize(X_val, y_val, y_prob, cutoff=0.5, ncols=6, nrows=3, figsize=(12, 8), classes=None, shape=None):\n",
        "    \"\"\"\n",
        "    Visualize some random samples from the prediction results.\n",
        "    Colours: green for a good prediction, red for a wrong one. If the\n",
        "    probability was less than some cutoff (default 0.5), we'll mute the colour.\n",
        "\n",
        "    Args:\n",
        "        X_val (ndarray): The validation features, n_samples x n_features.\n",
        "        y_val (ndarray): The validation labels, n_samples x 1.\n",
        "        y_prob (ndarray): The predicted probabilities, n_samples x n_classes.\n",
        "        cutoff (float): the cutoff for 'uncertain'.\n",
        "        ncols (int): how many plots across the grid.\n",
        "        nrows (int): how many plots down the grid.\n",
        "        figsize (tuple): tuple of ints.\n",
        "        classes (array-like): the classes, in order. Will be inferred if None.\n",
        "        shape (tuple): Shape of each instance, if it needs reshaping.\n",
        "    \"\"\"\n",
        "    idx = random.sample(range(X_val.shape[0]), ncols*nrows)\n",
        "    sample = X_val[idx]\n",
        "\n",
        "    if classes is None:\n",
        "        classes = np.unique(y_val)\n",
        "    else:\n",
        "        y_val = np.asarray(classes)[y_val]\n",
        "\n",
        "    fig, axs = plt.subplots(figsize=figsize, ncols=ncols, nrows=nrows)\n",
        "    axs = axs.ravel()\n",
        "\n",
        "    for ax, img, actual, probs in zip(axs, sample, y_val[idx], y_prob[idx]):\n",
        "\n",
        "        pred = classes[np.argmax(probs)]\n",
        "        prob = np.max(probs)\n",
        "        if shape is not None:\n",
        "            img = img.reshape(shape)\n",
        "\n",
        "        ax.imshow(np.squeeze(img), cmap='gray')\n",
        "        ax.set_title(f\"{pred} - {prob:.3f}\\n[{actual}]\")\n",
        "        ax.set_xticks([])\n",
        "        ax.set_yticks([])\n",
        "\n",
        "        if prob > cutoff:\n",
        "            c = 'limegreen' if (actual == pred) else 'red'\n",
        "        else:\n",
        "            c = 'y' if (actual == pred) else 'lightsalmon'\n",
        "\n",
        "        for spine in ax.spines.values():\n",
        "            spine.set_edgecolor(c)\n",
        "            spine.set_linewidth(4)\n",
        "\n",
        "    return"
      ],
      "execution_count": 0,
      "outputs": []
    },
    {
      "cell_type": "code",
      "metadata": {
        "colab_type": "code",
        "id": "LJSlWUxQiR-f",
        "colab": {
          "base_uri": "https://localhost:8080/",
          "height": 468
        },
        "outputId": "f3a20ead-f6f8-48f6-8f83-62e9be30dbc2"
      },
      "source": [
        "visualize(X_val, y_val, y_pred, classes=LABEL_NAMES)"
      ],
      "execution_count": 58,
      "outputs": [
        {
          "output_type": "display_data",
          "data": {
            "image/png": "[encoded data removed]",
            "text/plain": [
              "<Figure size 864x576 with 18 Axes>"
            ]
          },
          "metadata": {
            "tags": []
          }
        }
      ]
    },
    {
      "cell_type": "code",
      "metadata": {
        "id": "gsSNAiotUjJt",
        "colab_type": "code",
        "colab": {
          "base_uri": "https://localhost:8080/",
          "height": 468
        },
        "outputId": "8d6d3298-8f68-42b9-f018-92a1a1fd012e"
      },
      "source": [
        "# Incorrectly classified only.\n",
        "wrong_idx = np.argmax(y_pred, axis=-1) != y_val\n",
        "y_pred_ = y_pred[wrong_idx]\n",
        "y_val_ = y_val[wrong_idx]\n",
        "X_val_ = X_val[wrong_idx]\n",
        "\n",
        "visualize(X_val_, y_val_, y_pred_, classes=LABEL_NAMES)"
      ],
      "execution_count": 65,
      "outputs": [
        {
          "output_type": "display_data",
          "data": {
            "image/png": "[encoded data removed]",
            "text/plain": [
              "<Figure size 864x576 with 18 Axes>"
            ]
          },
          "metadata": {
            "tags": []
          }
        }
      ]
    },
    {
      "cell_type": "code",
      "metadata": {
        "id": "lgvOlTnZaD9J",
        "colab_type": "code",
        "colab": {}
      },
      "source": [
        ""
      ],
      "execution_count": 0,
      "outputs": []
    }
  ]
}