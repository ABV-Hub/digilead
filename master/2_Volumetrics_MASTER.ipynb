{
 "cells": [
  {
   "cell_type": "markdown",
   "metadata": {},
   "source": [
    "# Volumetrics: HCIP calculation\n",
    "\n",
    "We'll implement the volumetric equation:\n",
    "\n",
    "$$ V = A \\times T \\times G \\times \\phi \\times N\\!\\!:\\!\\!G \\times S_\\mathrm{O} \\times \\frac{1}{B_\\mathrm{O}} $$\n",
    "\n",
    "## Gross rock volume \n",
    "\n",
    "$$ \\mathrm{GRV} = A \\times T $$"
   ]
  },
  {
   "cell_type": "code",
   "execution_count": 1,
   "metadata": {},
   "outputs": [
    {
     "data": {
      "text/plain": [
       "48000000000"
      ]
     },
     "execution_count": 1,
     "metadata": {},
     "output_type": "execute_result"
    }
   ],
   "source": [
    "thick = 80            # metres\n",
    "area = 20000 * 30000  # metres\n",
    "\n",
    "grv = thick * area\n",
    "grv"
   ]
  },
  {
   "cell_type": "markdown",
   "metadata": {},
   "source": [
    "Make a <bold>function</bold> that computes the GRV."
   ]
  },
  {
   "cell_type": "code",
   "execution_count": 2,
   "metadata": {},
   "outputs": [],
   "source": [
    "def calculate_grv(thickness, area):\n",
    "    return thickness * area"
   ]
  },
  {
   "cell_type": "markdown",
   "metadata": {},
   "source": [
    "Now we can just call this function, instead of remembering the equation. (Admittedly, the equation is rather easy to remember in this case!)"
   ]
  },
  {
   "cell_type": "code",
   "execution_count": 3,
   "metadata": {},
   "outputs": [
    {
     "data": {
      "text/plain": [
       "48000000000"
      ]
     },
     "execution_count": 3,
     "metadata": {},
     "output_type": "execute_result"
    }
   ],
   "source": [
    "calculate_grv(thick, area)"
   ]
  },
  {
   "cell_type": "markdown",
   "metadata": {},
   "source": [
    "It works!\n",
    "\n",
    "Now we need to compensate for the prospect not being a flat slab of rock &mdash; using the geometric factor. \n",
    "\n",
    "We will implement the equations implied by this diagram:"
   ]
  },
  {
   "cell_type": "markdown",
   "metadata": {},
   "source": [
    "<html><img src=\"http://subsurfwiki.org/images/6/66/Geometric_correction_factor.png\", width=600></html>"
   ]
  },
  {
   "cell_type": "markdown",
   "metadata": {},
   "source": [
    "Turn this one into a function."
   ]
  },
  {
   "cell_type": "code",
   "execution_count": 4,
   "metadata": {},
   "outputs": [],
   "source": [
    "def geometric_factor(thick, height, top='slab'):\n",
    "\n",
    "    ratio = thick / height\n",
    "\n",
    "    if top == 'round':\n",
    "        g = -0.6 * ratio + 1\n",
    "    elif top == 'flat':\n",
    "        g = -0.3 * ratio + 1\n",
    "    else:\n",
    "        g = 1\n",
    "\n",
    "    return g"
   ]
  },
  {
   "cell_type": "code",
   "execution_count": 6,
   "metadata": {},
   "outputs": [
    {
     "data": {
      "text/plain": [
       "0.52"
      ]
     },
     "execution_count": 6,
     "metadata": {},
     "output_type": "execute_result"
    }
   ],
   "source": [
    "geometric_factor(thick, height=100, top='round')"
   ]
  },
  {
   "cell_type": "markdown",
   "metadata": {},
   "source": [
    "What if we have multiple prospects?"
   ]
  },
  {
   "cell_type": "code",
   "execution_count": 7,
   "metadata": {},
   "outputs": [],
   "source": [
    "import numpy as np\n",
    "\n",
    "thicknesses = np.array([10, 25, 15, 5, 100])\n",
    "heights = np.array([75, 100, 20, 100, 200])"
   ]
  },
  {
   "cell_type": "code",
   "execution_count": 8,
   "metadata": {},
   "outputs": [
    {
     "data": {
      "text/plain": [
       "array([0.92, 0.85, 0.55, 0.97, 0.7 ])"
      ]
     },
     "execution_count": 8,
     "metadata": {},
     "output_type": "execute_result"
    }
   ],
   "source": [
    "geometric_factor(thicknesses, heights, top='round')"
   ]
  },
  {
   "cell_type": "markdown",
   "metadata": {},
   "source": [
    "Awesome, everything just works."
   ]
  },
  {
   "cell_type": "markdown",
   "metadata": {},
   "source": [
    "## HC pore volume\n",
    "\n",
    "We need:\n",
    "\n",
    "- net:gross &mdash; the ratio of reservoir-quality rock thickness to the total thickness of the interval.\n",
    "- porosity\n",
    "- $S_\\mathrm{O}$ &mdash; the oil saturation, or proportion of oil to total pore fluid."
   ]
  },
  {
   "cell_type": "code",
   "execution_count": 9,
   "metadata": {},
   "outputs": [],
   "source": [
    "netg = 0.5   # fraction\n",
    "por = 0.24   # fraction\n",
    "s_o = 0.8    # fraction\n",
    "\n",
    "hcpv = netg * por * s_o"
   ]
  },
  {
   "cell_type": "markdown",
   "metadata": {
    "tags": [
     "exercise"
    ]
   },
   "source": [
    "### EXERCISE\n",
    "\n",
    "- Turn this into a function by rearranging the following lines of code:"
   ]
  },
  {
   "cell_type": "code",
   "execution_count": 10,
   "metadata": {},
   "outputs": [],
   "source": [
    "def calculate_hcpv(netg, por, s_o):\n",
    "    \"\"\"A function to compute the hydrocarbon pore volume.\"\"\"\n",
    "    hcpv = netg * por * s_o\n",
    "    return hcpv"
   ]
  },
  {
   "cell_type": "markdown",
   "metadata": {},
   "source": [
    "## Formation volume factor\n",
    "\n",
    "Oil shrinks when we produce it, especially if it has high GOR. The FVF, or $B_O$, is the ratio of a reservoir barrel to a stock-tank barrel (25 deg C and 1 atm). Typically the FVF is between 1 (heavy oil) and 1.7 (high GOR)."
   ]
  },
  {
   "cell_type": "code",
   "execution_count": 11,
   "metadata": {},
   "outputs": [],
   "source": [
    "fvf = 1.1"
   ]
  },
  {
   "cell_type": "markdown",
   "metadata": {},
   "source": [
    "## Put it all together\n",
    "\n",
    "Now we have the components of the volumetric equation:"
   ]
  },
  {
   "cell_type": "code",
   "execution_count": 12,
   "metadata": {},
   "outputs": [
    {
     "data": {
      "text/plain": [
       "4189090909.0909085"
      ]
     },
     "execution_count": 12,
     "metadata": {},
     "output_type": "execute_result"
    }
   ],
   "source": [
    "hcip = grv * hcpv / fvf\n",
    "hcip"
   ]
  },
  {
   "cell_type": "markdown",
   "metadata": {},
   "source": [
    "6.3 barrels per metre-cubed."
   ]
  },
  {
   "cell_type": "code",
   "execution_count": 13,
   "metadata": {},
   "outputs": [
    {
     "data": {
      "text/plain": [
       "26348543999.999996"
      ]
     },
     "execution_count": 13,
     "metadata": {},
     "output_type": "execute_result"
    }
   ],
   "source": [
    "hcip * 6.2898"
   ]
  },
  {
   "cell_type": "code",
   "execution_count": 14,
   "metadata": {},
   "outputs": [],
   "source": [
    "# Solution.\n",
    "def calculate_hcip(thickness, area, height, top, netg, por, s_o, fvf):\n",
    "    grv = calculate_grv(thickness, area)\n",
    "    g = geometric_factor(thickness, height, top)\n",
    "    grv *= g\n",
    "    hcpv = calculate_hcpv(netg, por, s_o)\n",
    "    return grv * hcpv / fvf"
   ]
  },
  {
   "cell_type": "code",
   "execution_count": 15,
   "metadata": {},
   "outputs": [
    {
     "data": {
      "text/plain": [
       "4189090909.0909085"
      ]
     },
     "execution_count": 15,
     "metadata": {},
     "output_type": "execute_result"
    }
   ],
   "source": [
    "height = 100\n",
    "top = 'slab'\n",
    "\n",
    "calculate_hcip(thick, area, height, top, netg, por, s_o, fvf)"
   ]
  },
  {
   "cell_type": "code",
   "execution_count": 16,
   "metadata": {},
   "outputs": [],
   "source": [
    "fvfs = np.arange(1, 1.7, 0.01)\n",
    "\n",
    "hcips = calculate_hcip(thick, area, height, top, netg, por, s_o, fvfs)"
   ]
  },
  {
   "cell_type": "code",
   "execution_count": 17,
   "metadata": {},
   "outputs": [
    {
     "data": {
      "image/png": "[encoded data removed]",
      "text/plain": [
       "<Figure size 432x288 with 1 Axes>"
      ]
     },
     "metadata": {
      "needs_background": "light"
     },
     "output_type": "display_data"
    }
   ],
   "source": [
    "%matplotlib inline\n",
    "import matplotlib.pyplot as plt\n",
    "\n",
    "plt.plot(fvfs, hcips)\n",
    "plt.grid(color='k', alpha=0.15)"
   ]
  },
  {
   "cell_type": "markdown",
   "metadata": {},
   "source": [
    "## Monte Carlo simulation\n",
    "\n",
    "We can easily draw randomly from distributions of properties:"
   ]
  },
  {
   "cell_type": "code",
   "execution_count": 18,
   "metadata": {},
   "outputs": [
    {
     "data": {
      "text/plain": [
       "array([0.89175891, 0.47449348, 0.00140556, 0.88594532, 0.68599035])"
      ]
     },
     "execution_count": 18,
     "metadata": {},
     "output_type": "execute_result"
    }
   ],
   "source": [
    "import numpy as np\n",
    "\n",
    "np.random.random(5)"
   ]
  },
  {
   "cell_type": "code",
   "execution_count": 19,
   "metadata": {},
   "outputs": [],
   "source": [
    "netg = np.random.normal(loc=0.5, scale=0.1, size=100)\n",
    "por = np.random.normal(loc=0.15, scale=0.025, size=100)"
   ]
  },
  {
   "cell_type": "code",
   "execution_count": 20,
   "metadata": {},
   "outputs": [
    {
     "data": {
      "image/png": "[encoded data removed]",
      "text/plain": [
       "<Figure size 432x288 with 1 Axes>"
      ]
     },
     "metadata": {
      "needs_background": "light"
     },
     "output_type": "display_data"
    }
   ],
   "source": [
    "_ = plt.hist(por)"
   ]
  },
  {
   "cell_type": "code",
   "execution_count": 21,
   "metadata": {},
   "outputs": [
    {
     "data": {
      "text/plain": [
       "<matplotlib.axes._subplots.AxesSubplot at 0x7f62311149e8>"
      ]
     },
     "execution_count": 21,
     "metadata": {},
     "output_type": "execute_result"
    },
    {
     "data": {
      "image/png": "[encoded data removed]",
      "text/plain": [
       "<Figure size 432x288 with 1 Axes>"
      ]
     },
     "metadata": {
      "needs_background": "light"
     },
     "output_type": "display_data"
    }
   ],
   "source": [
    "import seaborn as sns\n",
    "\n",
    "sns.distplot(por, rug=True)"
   ]
  },
  {
   "cell_type": "code",
   "execution_count": 22,
   "metadata": {},
   "outputs": [
    {
     "data": {
      "text/plain": [
       "array([0.04374621, 0.03896921, 0.0960101 , 0.05041647, 0.03236557,\n",
       "       0.08650655, 0.06596693, 0.04745396, 0.07698983, 0.05939264,\n",
       "       0.07420392, 0.0703756 , 0.06630843, 0.04065243, 0.04370854,\n",
       "       0.06623395, 0.06771298, 0.05261654, 0.05308858, 0.05208025,\n",
       "       0.06011493, 0.06358032, 0.04909324, 0.05304784, 0.08117952,\n",
       "       0.06160674, 0.05124534, 0.04332111, 0.04575289, 0.05400401,\n",
       "       0.0634681 , 0.09613887, 0.05253359, 0.09155105, 0.05860475,\n",
       "       0.07144544, 0.07187239, 0.07281785, 0.05672949, 0.04393293,\n",
       "       0.0411256 , 0.05991384, 0.05559259, 0.04812046, 0.03891026,\n",
       "       0.04198024, 0.07646696, 0.0175202 , 0.07120687, 0.03512416,\n",
       "       0.05718246, 0.06087617, 0.058577  , 0.0524364 , 0.07369963,\n",
       "       0.05120432, 0.07944743, 0.06995089, 0.04532123, 0.06418472,\n",
       "       0.06505186, 0.03142918, 0.05424793, 0.0634104 , 0.08714167,\n",
       "       0.08568632, 0.03995346, 0.08919954, 0.05720459, 0.03977687,\n",
       "       0.05626217, 0.05184736, 0.05850428, 0.05198617, 0.04889264,\n",
       "       0.0657916 , 0.05910137, 0.06128356, 0.04700973, 0.09663339,\n",
       "       0.04082504, 0.06695456, 0.04232113, 0.02165433, 0.06710723,\n",
       "       0.05540059, 0.05806252, 0.07419423, 0.05569833, 0.08272006,\n",
       "       0.08015156, 0.04590001, 0.07253754, 0.06604291, 0.04765377,\n",
       "       0.05240572, 0.0651211 , 0.05542596, 0.03322186, 0.06771082])"
      ]
     },
     "execution_count": 22,
     "metadata": {},
     "output_type": "execute_result"
    }
   ],
   "source": [
    "hcpv = calculate_hcpv(netg, por, s_o)\n",
    "hcpv"
   ]
  },
  {
   "cell_type": "code",
   "execution_count": 23,
   "metadata": {},
   "outputs": [
    {
     "data": {
      "text/plain": [
       "<matplotlib.axes._subplots.AxesSubplot at 0x7f6234b037f0>"
      ]
     },
     "execution_count": 23,
     "metadata": {},
     "output_type": "execute_result"
    },
    {
     "data": {
      "image/png": "[encoded data removed]",
      "text/plain": [
       "<Figure size 432x288 with 1 Axes>"
      ]
     },
     "metadata": {
      "needs_background": "light"
     },
     "output_type": "display_data"
    }
   ],
   "source": [
    "sns.distplot(hcpv)"
   ]
  },
  {
   "cell_type": "code",
   "execution_count": 24,
   "metadata": {},
   "outputs": [
    {
     "data": {
      "text/plain": [
       "0.05887203861265828"
      ]
     },
     "execution_count": 24,
     "metadata": {},
     "output_type": "execute_result"
    }
   ],
   "source": [
    "hcpv.mean()"
   ]
  },
  {
   "cell_type": "markdown",
   "metadata": {},
   "source": [
    "The histogram looks a bit ragged, but this is probably because of the relatively small number of samples."
   ]
  },
  {
   "cell_type": "markdown",
   "metadata": {},
   "source": [
    "### EXERCISE\n",
    "\n",
    "1. Compute HCIP with these distributions. Make a histogram of the result in millions of barrels.\n",
    "1. How does the histogram look if you take 1000 samples instead of 100?\n",
    "1. Make distributions for some of the other properties, like thickness and FVF."
   ]
  },
  {
   "cell_type": "code",
   "execution_count": 25,
   "metadata": {},
   "outputs": [
    {
     "data": {
      "text/plain": [
       "<matplotlib.axes._subplots.AxesSubplot at 0x7f6230f32c50>"
      ]
     },
     "execution_count": 25,
     "metadata": {},
     "output_type": "execute_result"
    },
    {
     "data": {
      "image/png": "[encoded data removed]",
      "text/plain": [
       "<Figure size 432x288 with 1 Axes>"
      ]
     },
     "metadata": {
      "needs_background": "light"
     },
     "output_type": "display_data"
    }
   ],
   "source": [
    "hcip = calculate_hcip(thick, area, height, top, netg, por, s_o, fvf)\n",
    "sns.distplot(hcip * 6.2898 / 1e6)"
   ]
  },
  {
   "cell_type": "markdown",
   "metadata": {},
   "source": [
    "## Spreadsheet of prospects"
   ]
  },
  {
   "cell_type": "code",
   "execution_count": 26,
   "metadata": {},
   "outputs": [
    {
     "data": {
      "text/html": [
       "<div>\n",
       "<style scoped>\n",
       "    .dataframe tbody tr th:only-of-type {\n",
       "        vertical-align: middle;\n",
       "    }\n",
       "\n",
       "    .dataframe tbody tr th {\n",
       "        vertical-align: top;\n",
       "    }\n",
       "\n",
       "    .dataframe thead th {\n",
       "        text-align: right;\n",
       "    }\n",
       "</style>\n",
       "<table border=\"1\" class=\"dataframe\">\n",
       "  <thead>\n",
       "    <tr style=\"text-align: right;\">\n",
       "      <th></th>\n",
       "      <th>Index</th>\n",
       "      <th>Name</th>\n",
       "      <th>Thick [m]</th>\n",
       "      <th>Area [km2]</th>\n",
       "      <th>GeomFactor</th>\n",
       "      <th>N:G</th>\n",
       "      <th>phi</th>\n",
       "      <th>So</th>\n",
       "      <th>Bo</th>\n",
       "    </tr>\n",
       "  </thead>\n",
       "  <tbody>\n",
       "    <tr>\n",
       "      <th>0</th>\n",
       "      <td>0</td>\n",
       "      <td>Prospect_1</td>\n",
       "      <td>173</td>\n",
       "      <td>65.714854</td>\n",
       "      <td>0.73</td>\n",
       "      <td>0.26</td>\n",
       "      <td>0.150557</td>\n",
       "      <td>0.45</td>\n",
       "      <td>1.10</td>\n",
       "    </tr>\n",
       "    <tr>\n",
       "      <th>1</th>\n",
       "      <td>1</td>\n",
       "      <td>Prospect_2</td>\n",
       "      <td>410</td>\n",
       "      <td>40.684869</td>\n",
       "      <td>0.43</td>\n",
       "      <td>0.59</td>\n",
       "      <td>0.163122</td>\n",
       "      <td>0.38</td>\n",
       "      <td>1.23</td>\n",
       "    </tr>\n",
       "    <tr>\n",
       "      <th>2</th>\n",
       "      <td>2</td>\n",
       "      <td>Prospect_3</td>\n",
       "      <td>160</td>\n",
       "      <td>13.883810</td>\n",
       "      <td>0.55</td>\n",
       "      <td>0.16</td>\n",
       "      <td>0.167810</td>\n",
       "      <td>0.59</td>\n",
       "      <td>1.29</td>\n",
       "    </tr>\n",
       "    <tr>\n",
       "      <th>3</th>\n",
       "      <td>3</td>\n",
       "      <td>Prospect_4</td>\n",
       "      <td>11</td>\n",
       "      <td>5.572679</td>\n",
       "      <td>0.67</td>\n",
       "      <td>0.12</td>\n",
       "      <td>0.176766</td>\n",
       "      <td>0.29</td>\n",
       "      <td>1.20</td>\n",
       "    </tr>\n",
       "    <tr>\n",
       "      <th>4</th>\n",
       "      <td>4</td>\n",
       "      <td>Prospect_5</td>\n",
       "      <td>257</td>\n",
       "      <td>49.995814</td>\n",
       "      <td>0.81</td>\n",
       "      <td>0.31</td>\n",
       "      <td>0.179255</td>\n",
       "      <td>0.14</td>\n",
       "      <td>1.28</td>\n",
       "    </tr>\n",
       "  </tbody>\n",
       "</table>\n",
       "</div>"
      ],
      "text/plain": [
       "   Index        Name  Thick [m]  Area [km2]  GeomFactor   N:G       phi    So  \\\n",
       "0      0  Prospect_1        173   65.714854        0.73  0.26  0.150557  0.45   \n",
       "1      1  Prospect_2        410   40.684869        0.43  0.59  0.163122  0.38   \n",
       "2      2  Prospect_3        160   13.883810        0.55  0.16  0.167810  0.59   \n",
       "3      3  Prospect_4         11    5.572679        0.67  0.12  0.176766  0.29   \n",
       "4      4  Prospect_5        257   49.995814        0.81  0.31  0.179255  0.14   \n",
       "\n",
       "     Bo  \n",
       "0  1.10  \n",
       "1  1.23  \n",
       "2  1.29  \n",
       "3  1.20  \n",
       "4  1.28  "
      ]
     },
     "execution_count": 26,
     "metadata": {},
     "output_type": "execute_result"
    }
   ],
   "source": [
    "import pandas as pd\n",
    "\n",
    "uid = \"1P2JxXG_jLZ0vx8BlFvm0hD6sBBZH2zU8tk9T-SI27mE\"\n",
    "url = f\"https://docs.google.com/spreadsheets/d/{uid}/export?format=csv\"\n",
    "\n",
    "df = pd.read_csv(url)\n",
    "df.head()"
   ]
  },
  {
   "cell_type": "code",
   "execution_count": 27,
   "metadata": {},
   "outputs": [],
   "source": [
    "names = {\n",
    "    'thickness': 'Thick [m]',\n",
    "    'area': 'Area [km2]',\n",
    "    'netg': 'N:G',\n",
    "    'por': 'phi',\n",
    "    's_o': 'So',\n",
    "    'fvf': 'Bo'\n",
    "}"
   ]
  },
  {
   "cell_type": "code",
   "execution_count": 28,
   "metadata": {},
   "outputs": [],
   "source": [
    "def hcip_row(row):\n",
    "    params = {k: row[v] for k, v in names.items()}\n",
    "    params['height'] = 1e6\n",
    "    params['top'] = 'slab'\n",
    "    hcip = calculate_hcip(**params) * row['GeomFactor']\n",
    "    return hcip\n",
    "\n",
    "\n",
    "df['HCIP'] = df.apply(hcip_row, axis=1)"
   ]
  },
  {
   "cell_type": "code",
   "execution_count": 29,
   "metadata": {},
   "outputs": [
    {
     "data": {
      "text/html": [
       "<div>\n",
       "<style scoped>\n",
       "    .dataframe tbody tr th:only-of-type {\n",
       "        vertical-align: middle;\n",
       "    }\n",
       "\n",
       "    .dataframe tbody tr th {\n",
       "        vertical-align: top;\n",
       "    }\n",
       "\n",
       "    .dataframe thead th {\n",
       "        text-align: right;\n",
       "    }\n",
       "</style>\n",
       "<table border=\"1\" class=\"dataframe\">\n",
       "  <thead>\n",
       "    <tr style=\"text-align: right;\">\n",
       "      <th></th>\n",
       "      <th>Index</th>\n",
       "      <th>Name</th>\n",
       "      <th>Thick [m]</th>\n",
       "      <th>Area [km2]</th>\n",
       "      <th>GeomFactor</th>\n",
       "      <th>N:G</th>\n",
       "      <th>phi</th>\n",
       "      <th>So</th>\n",
       "      <th>Bo</th>\n",
       "      <th>HCIP</th>\n",
       "    </tr>\n",
       "  </thead>\n",
       "  <tbody>\n",
       "    <tr>\n",
       "      <th>0</th>\n",
       "      <td>0</td>\n",
       "      <td>Prospect_1</td>\n",
       "      <td>173</td>\n",
       "      <td>65.714854</td>\n",
       "      <td>0.73</td>\n",
       "      <td>0.26</td>\n",
       "      <td>0.150557</td>\n",
       "      <td>0.45</td>\n",
       "      <td>1.10</td>\n",
       "      <td>132.900794</td>\n",
       "    </tr>\n",
       "    <tr>\n",
       "      <th>1</th>\n",
       "      <td>1</td>\n",
       "      <td>Prospect_2</td>\n",
       "      <td>410</td>\n",
       "      <td>40.684869</td>\n",
       "      <td>0.43</td>\n",
       "      <td>0.59</td>\n",
       "      <td>0.163122</td>\n",
       "      <td>0.38</td>\n",
       "      <td>1.23</td>\n",
       "      <td>213.269652</td>\n",
       "    </tr>\n",
       "    <tr>\n",
       "      <th>2</th>\n",
       "      <td>2</td>\n",
       "      <td>Prospect_3</td>\n",
       "      <td>160</td>\n",
       "      <td>13.883810</td>\n",
       "      <td>0.55</td>\n",
       "      <td>0.16</td>\n",
       "      <td>0.167810</td>\n",
       "      <td>0.59</td>\n",
       "      <td>1.29</td>\n",
       "      <td>15.003450</td>\n",
       "    </tr>\n",
       "    <tr>\n",
       "      <th>3</th>\n",
       "      <td>3</td>\n",
       "      <td>Prospect_4</td>\n",
       "      <td>11</td>\n",
       "      <td>5.572679</td>\n",
       "      <td>0.67</td>\n",
       "      <td>0.12</td>\n",
       "      <td>0.176766</td>\n",
       "      <td>0.29</td>\n",
       "      <td>1.20</td>\n",
       "      <td>0.210537</td>\n",
       "    </tr>\n",
       "    <tr>\n",
       "      <th>4</th>\n",
       "      <td>4</td>\n",
       "      <td>Prospect_5</td>\n",
       "      <td>257</td>\n",
       "      <td>49.995814</td>\n",
       "      <td>0.81</td>\n",
       "      <td>0.31</td>\n",
       "      <td>0.179255</td>\n",
       "      <td>0.14</td>\n",
       "      <td>1.28</td>\n",
       "      <td>63.256274</td>\n",
       "    </tr>\n",
       "  </tbody>\n",
       "</table>\n",
       "</div>"
      ],
      "text/plain": [
       "   Index        Name  Thick [m]  Area [km2]  GeomFactor   N:G       phi    So  \\\n",
       "0      0  Prospect_1        173   65.714854        0.73  0.26  0.150557  0.45   \n",
       "1      1  Prospect_2        410   40.684869        0.43  0.59  0.163122  0.38   \n",
       "2      2  Prospect_3        160   13.883810        0.55  0.16  0.167810  0.59   \n",
       "3      3  Prospect_4         11    5.572679        0.67  0.12  0.176766  0.29   \n",
       "4      4  Prospect_5        257   49.995814        0.81  0.31  0.179255  0.14   \n",
       "\n",
       "     Bo        HCIP  \n",
       "0  1.10  132.900794  \n",
       "1  1.23  213.269652  \n",
       "2  1.29   15.003450  \n",
       "3  1.20    0.210537  \n",
       "4  1.28   63.256274  "
      ]
     },
     "execution_count": 29,
     "metadata": {},
     "output_type": "execute_result"
    }
   ],
   "source": [
    "df.head()"
   ]
  },
  {
   "cell_type": "code",
   "execution_count": 30,
   "metadata": {},
   "outputs": [
    {
     "data": {
      "text/plain": [
       "<matplotlib.axes._subplots.AxesSubplot at 0x7f623064b128>"
      ]
     },
     "execution_count": 30,
     "metadata": {},
     "output_type": "execute_result"
    },
    {
     "data": {
      "image/png": "[encoded data removed]",
      "text/plain": [
       "<Figure size 432x288 with 1 Axes>"
      ]
     },
     "metadata": {
      "needs_background": "light"
     },
     "output_type": "display_data"
    }
   ],
   "source": [
    "sns.distplot(df.query('HCIP>5').HCIP)"
   ]
  },
  {
   "cell_type": "markdown",
   "metadata": {},
   "source": [
    "<hr />\n",
    "\n",
    "<div>\n",
    "<img src=\"https://avatars1.githubusercontent.com/u/1692321?s=50\"><p style=\"text-align:center\">© Agile Geoscience 2016</p>\n",
    "</div>"
   ]
  }
 ],
 "metadata": {
  "anaconda-cloud": {},
  "kernelspec": {
   "display_name": "geocomp",
   "language": "python",
   "name": "geocomp"
  },
  "language_info": {
   "codemirror_mode": {
    "name": "ipython",
    "version": 3
   },
   "file_extension": ".py",
   "mimetype": "text/x-python",
   "name": "python",
   "nbconvert_exporter": "python",
   "pygments_lexer": "ipython3",
   "version": "3.7.1"
  }
 },
 "nbformat": 4,
 "nbformat_minor": 1
}
